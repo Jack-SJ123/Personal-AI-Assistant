{
 "cells": [
  {
   "cell_type": "code",
   "execution_count": null,
   "id": "0e6ae8a4",
   "metadata": {},
   "outputs": [
    {
     "name": "stderr",
     "output_type": "stream",
     "text": [
      "C:\\Users\\ronal\\AppData\\Local\\Packages\\PythonSoftwareFoundation.Python.3.13_qbz5n2kfra8p0\\LocalCache\\local-packages\\Python313\\site-packages\\pymisp\\__init__.py:67: FutureWarning: This class is deprecated, use PyMISP instead\n",
      "  warnings.warn('This class is deprecated, use PyMISP instead', FutureWarning)\n"
     ]
    },
    {
     "name": "stdout",
     "output_type": "stream",
     "text": [
      "Fetched 2000 events from MISP.\n",
      "Saved events to misp_events.json\n"
     ]
    }
   ],
   "source": [
    "import json\n",
    "import os\n",
    "from pymisp import ExpandedPyMISP\n",
    "from tqdm import tqdm\n",
    "import urllib3\n",
    "urllib3.disable_warnings(urllib3.exceptions.InsecureRequestWarning)\n",
    "\n",
    "# ===== CONFIGURATION =====\n",
    "MISP_URL = \"https://localhost\"\n",
    "MISP_KEY = \"XRXFHOwNFiMQxu1bdgPL63ifWjvLTlH5cVdSv0M7\"\n",
    "VERIFY_CERT = False  # Set to True if MISP has a valid SSL cert\n",
    "OUTPUT_FILE = \"misp_events.json\"\n",
    "EVENT_LIMIT = 1000  # Max events to ingest\n",
    "# --------------\n",
    "\n",
    "def fetch_misp_events():\n",
    "    misp = ExpandedPyMISP(MISP_URL, MISP_KEY, ssl=False)\n",
    "    events = misp.search(controller='events', limit=EVENT_LIMIT)\n",
    "    print(f\"Fetched {len(events)} events from MISP.\")\n",
    "    return events\n",
    "\n",
    "def save_to_json(data, filename):\n",
    "    with open(filename, 'w', encoding='utf-8') as f:\n",
    "        json.dump(data, f, ensure_ascii=False, indent=2)\n",
    "    print(f\"Saved events to {filename}\")\n",
    "\n",
    "if __name__ == \"__main__\":\n",
    "    events = fetch_misp_events()\n",
    "    save_to_json(events, OUTPUT_FILE)"
   ]
  },
  {
   "cell_type": "code",
   "execution_count": null,
   "id": "a40c2786",
   "metadata": {},
   "outputs": [],
   "source": []
  }
 ],
 "metadata": {
  "kernelspec": {
   "display_name": "Python 3",
   "language": "python",
   "name": "python3"
  },
  "language_info": {
   "codemirror_mode": {
    "name": "ipython",
    "version": 3
   },
   "file_extension": ".py",
   "mimetype": "text/x-python",
   "name": "python",
   "nbconvert_exporter": "python",
   "pygments_lexer": "ipython3",
   "version": "3.13.6"
  }
 },
 "nbformat": 4,
 "nbformat_minor": 5
}
